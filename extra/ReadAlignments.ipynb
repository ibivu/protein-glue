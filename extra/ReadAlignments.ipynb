{
 "cells": [
  {
   "cell_type": "code",
   "execution_count": 33,
   "metadata": {},
   "outputs": [],
   "source": [
    "import Bio.AlignIO\n",
    "import Bio.Alphabet\n",
    "import numpy as np\n",
    "\n",
    "import gzip"
   ]
  },
  {
   "cell_type": "code",
   "execution_count": 48,
   "metadata": {},
   "outputs": [],
   "source": [
    "f = gzip.open('../input/Pfam-A.seed.gz', 'rt')"
   ]
  },
  {
   "cell_type": "code",
   "execution_count": 49,
   "metadata": {},
   "outputs": [],
   "source": [
    "NUM_ALIGNMENTS = 100000\n",
    "\n",
    "def gen(f):\n",
    "    g = Bio.AlignIO.parse(f, 'stockholm')\n",
    "    i = 0\n",
    "    while True:\n",
    "        try:\n",
    "            yield i, next(g)\n",
    "        except UnicodeDecodeError:\n",
    "            pass\n",
    "        except StopIteration:\n",
    "            break\n",
    "        i += 1\n",
    "\n",
    "alignments = []\n",
    "for i, alignment in gen(f):\n",
    "    alignments.append(alignment)\n",
    "    if i >= NUM_ALIGNMENTS:\n",
    "        break"
   ]
  },
  {
   "cell_type": "code",
   "execution_count": 46,
   "metadata": {},
   "outputs": [
    {
     "data": {
      "text/plain": [
       "8146"
      ]
     },
     "execution_count": 46,
     "metadata": {},
     "output_type": "execute_result"
    }
   ],
   "source": [
    "len(alignments)"
   ]
  },
  {
   "cell_type": "code",
   "execution_count": 4,
   "metadata": {},
   "outputs": [],
   "source": [
    "def aln_to_arrs(aln):\n",
    "    a = np.array([rec.seq.upper() for rec in aln])\n",
    "    \n",
    "    # Takes a bit of effort to do the alignment position indexing entirely in numpy, \n",
    "    # but since we'll be spitting through gigabytes of alignment data later on it's good \n",
    "    # if we spend as little time in Python code as possible.\n",
    "    non_gap_mask = (a != '-')\n",
    "    non_gap_count = non_gap_mask.sum(axis=1)\n",
    "    seq_idxs = np.tile(np.arange(non_gap_count.max()), (non_gap_count.shape[0], 1))\n",
    "    flat_seq_idxs = np.extract(seq_idxs < np.expand_dims(non_gap_count, axis=1), seq_idxs)\n",
    "    b = np.zeros(a.shape, dtype=np.int)\n",
    "    b.fill(-1)\n",
    "    np.place(b, non_gap_mask, flat_seq_idxs)\n",
    "    \n",
    "    return (a, b)"
   ]
  },
  {
   "cell_type": "code",
   "execution_count": 67,
   "metadata": {},
   "outputs": [],
   "source": [
    "gappy_alignments = []\n",
    "for alignment in alignments:\n",
    "    symbols, indices = aln_to_arrs(alignment)\n",
    "    total_positions = np.ones_like(indices).sum()\n",
    "    num_gaps = (indices == -1).sum()\n",
    "    if (num_gaps / total_positions) > 0.25:\n",
    "        gappy_alignments.append((alignments, symbols, indices))\n",
    "    "
   ]
  },
  {
   "cell_type": "code",
   "execution_count": 68,
   "metadata": {},
   "outputs": [
    {
     "data": {
      "text/plain": [
       "2321"
      ]
     },
     "execution_count": 68,
     "metadata": {},
     "output_type": "execute_result"
    }
   ],
   "source": [
    "len(gappy_alignments)"
   ]
  },
  {
   "cell_type": "code",
   "execution_count": 73,
   "metadata": {},
   "outputs": [
    {
     "data": {
      "text/plain": [
       "array([[35, 36, 37, 38, 39],\n",
       "       [39, 40, 41, 42, 43],\n",
       "       [35, 36, 37, 38, 39],\n",
       "       [39, 40, 41, 42, 43],\n",
       "       [35, 36, 37, 38, 39],\n",
       "       [35, 36, 37, 38, 39],\n",
       "       [35, 36, 37, 38, 39],\n",
       "       [29, 30, 31, 32, 33],\n",
       "       [33, 34, 35, 36, 37],\n",
       "       [31, 32, 33, 34, 35],\n",
       "       [31, 32, 33, 34, 35],\n",
       "       [31, 32, 33, 34, 35],\n",
       "       [31, 32, 33, 34, 35],\n",
       "       [31, 32, 33, 34, 35],\n",
       "       [31, 32, 33, 34, 35],\n",
       "       [31, 32, 33, 34, 35],\n",
       "       [32, 33, 34, 35, 36],\n",
       "       [31, 32, 33, 34, 35],\n",
       "       [33, 34, 35, 36, 37],\n",
       "       [32, 33, 34, 35, 36],\n",
       "       [31, 32, 33, 34, 35],\n",
       "       [33, 34, 35, 36, 37],\n",
       "       [37, 38, 39, 40, 41],\n",
       "       [36, 37, 38, 39, 40],\n",
       "       [29, 30, 31, 32, 33],\n",
       "       [32, 33, 34, 35, 36],\n",
       "       [31, 32, 33, 34, 35],\n",
       "       [39, 40, 41, 42, 43],\n",
       "       [35, 36, 37, 38, 39],\n",
       "       [35, 36, 37, 38, 39],\n",
       "       [35, 36, 37, 38, 39],\n",
       "       [35, 36, 37, 38, 39],\n",
       "       [35, 36, -1, -1, 37],\n",
       "       [35, 36, 37, 38, 39],\n",
       "       [35, 36, -1, -1, 37],\n",
       "       [35, 36, 37, 38, 39],\n",
       "       [35, 36, 37, 38, 39],\n",
       "       [35, 36, 37, 38, 39],\n",
       "       [35, 36, 37, 38, 39],\n",
       "       [39, 40, 41, 42, 43],\n",
       "       [35, 36, 37, 38, 39],\n",
       "       [35, 36, 37, 38, 39],\n",
       "       [45, 46, 47, 48, 49]])"
      ]
     },
     "execution_count": 73,
     "metadata": {},
     "output_type": "execute_result"
    }
   ],
   "source": [
    "gappy_alignments[0][2][:60, 50:]"
   ]
  },
  {
   "cell_type": "code",
   "execution_count": null,
   "metadata": {},
   "outputs": [],
   "source": []
  }
 ],
 "metadata": {
  "kernelspec": {
   "display_name": "Python 3",
   "language": "python",
   "name": "python3"
  },
  "language_info": {
   "codemirror_mode": {
    "name": "ipython",
    "version": 3
   },
   "file_extension": ".py",
   "mimetype": "text/x-python",
   "name": "python",
   "nbconvert_exporter": "python",
   "pygments_lexer": "ipython3",
   "version": "3.7.7"
  }
 },
 "nbformat": 4,
 "nbformat_minor": 4
}
