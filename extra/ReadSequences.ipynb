{
 "cells": [
  {
   "cell_type": "code",
   "execution_count": 1,
   "metadata": {},
   "outputs": [],
   "source": [
    "import Bio.SeqIO\n",
    "import Bio.Alphabet\n",
    "import matplotlib.pyplot as plt\n",
    "import random\n",
    "import tensorflow as tf\n",
    "import collections\n",
    "import numpy as np\n",
    "from matplotlib import pyplot as plt"
   ]
  },
  {
   "cell_type": "code",
   "execution_count": 3,
   "metadata": {},
   "outputs": [],
   "source": [
    "all_families = set()\n",
    "family_counter = collections.Counter()\n",
    "family_total_lengths = collections.Counter()\n",
    "family_to_seqs = collections.defaultdict(list)\n",
    "family_to_big_seqs = collections.defaultdict(list)\n",
    "for i, rec in enumerate(Bio.SeqIO.parse('../input/Pfam-A.fasta', 'fasta', alphabet=Bio.Alphabet.ProteinAlphabet())):\n",
    "    length = len(rec.seq)\n",
    "    # Exclude peptides and extremely long domains\n",
    "    if 50 <= length <= 512:\n",
    "        name = rec.description\n",
    "        words = name.split()\n",
    "        family = words[2].split(';')[0].split('.')[0]\n",
    "\n",
    "        family_counter[family] += 1\n",
    "        family_total_lengths[family] += length\n",
    "        all_families.add(family)\n",
    "    \n",
    "        if length <= 128:\n",
    "            family_to_seqs[family].append(str(rec.seq))\n",
    "        elif length <= 512:\n",
    "            family_to_big_seqs[family].append(str(rec.seq))"
   ]
  },
  {
   "cell_type": "code",
   "execution_count": 4,
   "metadata": {},
   "outputs": [],
   "source": [
    "selected_seqs = []\n",
    "for seqs in family_to_seqs.values():\n",
    "    selected_seqs.extend(seqs)\n",
    "random.shuffle(selected_seqs)\n",
    "    \n",
    "selected_big_seqs = []\n",
    "for seqs in family_to_big_seqs.values():\n",
    "    selected_big_seqs.extend(seqs)\n",
    "random.shuffle(selected_big_seqs)"
   ]
  },
  {
   "cell_type": "code",
   "execution_count": 5,
   "metadata": {},
   "outputs": [],
   "source": [
    "def _bytes_feature(value):\n",
    "    b = value.encode('ascii')\n",
    "    a = np.frombuffer(b, dtype=np.uint8, count=len(b)) - 61\n",
    "    return tf.train.Feature(bytes_list=tf.train.BytesList(value=[a.tobytes()]))\n",
    "\n",
    "def _int64_feature(value):\n",
    "    return tf.train.Feature(int64_list=tf.train.Int64List(value=[value]))\n",
    "\n",
    "def write_to_file(filename, data): \n",
    "    with tf.io.TFRecordWriter(filename) as fo:\n",
    "        for seq in data:\n",
    "            ex = tf.train.Example(features=tf.train.Features(feature={\n",
    "                'sequence': _bytes_feature(seq),\n",
    "            }))\n",
    "\n",
    "            fo.write(ex.SerializeToString())\n",
    "\n",
    "def write_seqs(name, seqs, K=10):\n",
    "    chunk_size = len(seqs) // K\n",
    "    for k, i in enumerate(range(0, len(seqs), chunk_size)):\n",
    "        fname = \"{0}-k{1}.tfrecord\".format(name, k+1)\n",
    "        print(\"Writing {0}:{1} to {2}...\".format(i, i + chunk_size, fname))\n",
    "        write_to_file('../output/' + fname, seqs[i:i + chunk_size])"
   ]
  },
  {
   "cell_type": "code",
   "execution_count": 6,
   "metadata": {},
   "outputs": [
    {
     "name": "stdout",
     "output_type": "stream",
     "text": [
      "Writing 0:1404866 to bert-sequences-k1.tfrecord...\n",
      "Writing 1404866:2809732 to bert-sequences-k2.tfrecord...\n",
      "Writing 2809732:4214598 to bert-sequences-k3.tfrecord...\n",
      "Writing 4214598:5619464 to bert-sequences-k4.tfrecord...\n",
      "Writing 5619464:7024330 to bert-sequences-k5.tfrecord...\n",
      "Writing 7024330:8429196 to bert-sequences-k6.tfrecord...\n",
      "Writing 8429196:9834062 to bert-sequences-k7.tfrecord...\n",
      "Writing 9834062:11238928 to bert-sequences-k8.tfrecord...\n",
      "Writing 11238928:12643794 to bert-sequences-k9.tfrecord...\n",
      "Writing 12643794:14048660 to bert-sequences-k10.tfrecord...\n",
      "Writing 14048660:15453526 to bert-sequences-k11.tfrecord...\n"
     ]
    }
   ],
   "source": [
    "write_seqs('bert-sequences', selected_seqs)"
   ]
  },
  {
   "cell_type": "code",
   "execution_count": 8,
   "metadata": {},
   "outputs": [
    {
     "name": "stdout",
     "output_type": "stream",
     "text": [
      "Writing 0:16946731 to bert-sequences-big-k1.tfrecord...\n"
     ]
    }
   ],
   "source": [
    "write_seqs('bert-sequences-big', selected_big_seqs, 1)"
   ]
  },
  {
   "cell_type": "code",
   "execution_count": null,
   "metadata": {},
   "outputs": [],
   "source": []
  }
 ],
 "metadata": {
  "kernelspec": {
   "display_name": "Python 3",
   "language": "python",
   "name": "python3"
  },
  "language_info": {
   "codemirror_mode": {
    "name": "ipython",
    "version": 3
   },
   "file_extension": ".py",
   "mimetype": "text/x-python",
   "name": "python",
   "nbconvert_exporter": "python",
   "pygments_lexer": "ipython3",
   "version": "3.7.7"
  },
  "nav_menu": {},
  "toc": {
   "navigate_menu": true,
   "number_sections": true,
   "sideBar": true,
   "threshold": 6,
   "toc_cell": false,
   "toc_section_display": "block",
   "toc_window_display": false
  }
 },
 "nbformat": 4,
 "nbformat_minor": 4
}
